{
 "cells": [
  {
   "cell_type": "code",
   "execution_count": 1,
   "metadata": {},
   "outputs": [
    {
     "name": "stderr",
     "output_type": "stream",
     "text": [
      "/home/pp/anaconda3/envs/baseline/lib/python3.6/site-packages/gym/logger.py:34: UserWarning: \u001b[33mWARN: Box bound precision lowered by casting to float32\u001b[0m\n",
      "  warnings.warn(colorize(\"%s: %s\" % (\"WARN\", msg % args), \"yellow\"))\n"
     ]
    }
   ],
   "source": [
    "import gym\n",
    "from gym import error, spaces, utils\n",
    "from gym.utils import seeding\n",
    "\n",
    "import os\n",
    "import pybullet as p\n",
    "import pybullet_data\n",
    "import math\n",
    "import numpy as np\n",
    "import random\n",
    "\n",
    "from gym_myrobot.envs.robot_reach import ReachEnv\n",
    "robenv = ReachEnv(reward_type='dense',usegripper=True, use_fixed_target=True, usegui=False, fixed_target=[0.1, 0.1, 0.1])  # reward type = 'sparse' 时，为稀疏奖励，可以配合her算法使用\n",
    "\n",
    "import torch\n",
    "import torch.nn as nn\n",
    "from torch.distributions import MultivariateNormal\n",
    "from torch.distributions import Categorical\n",
    "import numpy as np\n",
    "import gym\n",
    "import os\n",
    "\n",
    "device = torch.device('cpu')\n",
    "if(torch.cuda.is_available()):\n",
    "    device = torch.device('cuda:0')"
   ]
  },
  {
   "cell_type": "code",
   "execution_count": 2,
   "metadata": {},
   "outputs": [],
   "source": [
    "from torch.utils.tensorboard import SummaryWriter\n",
    "writer_actor = SummaryWriter('PPO_logs/actor')\n",
    "writer_critic = SummaryWriter('PPO_logs/critic')\n",
    "writer_scalars = SummaryWriter('PPO_logs')"
   ]
  },
  {
   "cell_type": "code",
   "execution_count": 3,
   "metadata": {},
   "outputs": [],
   "source": [
    "class RolloutBuffer:\n",
    "    def __init__(self):\n",
    "        self.actions = []\n",
    "        self.states = []\n",
    "        self.logprobs = []\n",
    "        self.rewards = []\n",
    "        self.is_terminals = []\n",
    "        \n",
    "    def clear(self):\n",
    "        del self.actions[:]\n",
    "        del self.states[:]\n",
    "        del self.logprobs[:]\n",
    "        del self.rewards[:]\n",
    "        del self.is_terminals[:]"
   ]
  },
  {
   "cell_type": "code",
   "execution_count": 4,
   "metadata": {},
   "outputs": [],
   "source": [
    "class Actor(nn.Module):\n",
    "    '''给出一个分布的均值'''\n",
    "    def __init__(self, state_dim, action_dim):\n",
    "        super(Actor, self).__init__()\n",
    "        self.linear1 = nn.Linear(state_dim, 64)\n",
    "        self.linear2 = nn.Linear(64, 64)\n",
    "        self.linear3 = nn.Linear(64, action_dim)\n",
    "        \n",
    "    def forward(self, state):\n",
    "        x = torch.tanh(self.linear1(state))\n",
    "        x = torch.tanh(self.linear2(x))\n",
    "        x = torch.tanh(self.linear3(x))\n",
    "        return x "
   ]
  },
  {
   "cell_type": "code",
   "execution_count": 5,
   "metadata": {},
   "outputs": [],
   "source": [
    "class Critic(nn.Module):\n",
    "    def __init__(self, state_dim):\n",
    "        super(Critic, self).__init__()\n",
    "        self.linear1 = nn.Linear(state_dim, 64)\n",
    "        self.linear2 = nn.Linear(64, 64)\n",
    "        self.linear3 = nn.Linear(64, 1)\n",
    "    \n",
    "    def forward(self, state):\n",
    "        x = torch.tanh(self.linear1(state))\n",
    "        x = torch.tanh(self.linear2(x))\n",
    "        x = self.linear3(x)\n",
    "        return x"
   ]
  },
  {
   "cell_type": "code",
   "execution_count": 6,
   "metadata": {},
   "outputs": [],
   "source": [
    "class ActorCritic(nn.Module):\n",
    "    '''把Actor和Critic封装到一起了，这样可以直接评估，比较简单'''\n",
    "    def __init__(self, state_dim, action_dim, action_std_init):\n",
    "        super(ActorCritic, self).__init__()\n",
    "        \n",
    "        self.action_dim = action_dim\n",
    "        self.action_var = torch.full((self.action_dim,), action_std_init**2).to(device) # 把一个标量变成动作维度的向量\n",
    "        \n",
    "        self.actor = Actor(state_dim, action_dim)\n",
    "        self.critic = Critic(state_dim)\n",
    "        \n",
    "    def set_action_std(self, new_action_std):\n",
    "        self.action_var = torch.full((self.action_dim,), new_action_std**2).to(device)\n",
    "        \n",
    "    def act(self, state):\n",
    "        '''输入单个状态，得到动作和log, 是之后要用到选择动作的子函数'''\n",
    "        action_mean = self.actor(state)           # 一行均值，列数是动作维度，1维向量\n",
    "        cov_mat = torch.diag(self.action_var)     # 一行方差，可以直接diag\n",
    "        dist = MultivariateNormal(action_mean, cov_mat)\n",
    "        action = dist.sample()\n",
    "        action_logprob = dist.log_prob(action)\n",
    "        \n",
    "        return action.detach(), action_logprob.detach()  # [x,x,x], x\n",
    "    \n",
    "    def evaluate(self, state, action):\n",
    "        '''输入一批状态和动作，得到一批评估结果, .log_prob(action)中action不必是这个dist筛出来的'''\n",
    "        action_mean = self.actor(state)          # 好多行均值，列数是动作维度，2维矩阵\n",
    "        action_var = self.action_var.expand_as(action_mean)  # 方差也要变成好多行\n",
    "        cov_mat = torch.diag_embed(action_var)   # 不能直接diag，要用diag_embed\n",
    "        dist = MultivariateNormal(action_mean, cov_mat)\n",
    "        \n",
    "        # 如果动作的dim是1，则需要给他改变一下形状，\n",
    "        # 因为多维action[batch_size, action_dim]，而单维的action[batch_size]，少了个维度,要变成[bactch_size,1]\n",
    "        if self.action_dim == 1:\n",
    "            action = action.reshape(-1, 1)   # [batch_size, 1] 只有第二个维度有，下面的log_prob才好使\n",
    "        \n",
    "        action_logprobs = dist.log_prob(action)\n",
    "        state_values = self.critic(state)\n",
    "        dist_entropy = dist.entropy()\n",
    "        \n",
    "        return action_logprobs, state_values, dist_entropy "
   ]
  },
  {
   "cell_type": "code",
   "execution_count": 7,
   "metadata": {},
   "outputs": [],
   "source": [
    "class PPO:\n",
    "    def __init__(self, env, lr_actor, lr_critic, gamma, K_epochs, eps_clip, actions_std_init=0.6):\n",
    "        self.env = env\n",
    "        self.state_dim = 6\n",
    "        self.action_dim = env.action_space.shape[0]\n",
    "        self.max_action = float(env.action_space.high[0])\n",
    "        \n",
    "        self.action_std = actions_std_init\n",
    "        self.gamma = gamma\n",
    "        self.K_epochs = K_epochs\n",
    "        self.eps_clip = eps_clip\n",
    "        self.actions_std_init = actions_std_init\n",
    "        self.buffer = RolloutBuffer()\n",
    "        \n",
    "        # 初始化Actor_Critic 整体网络\n",
    "        self.policy = ActorCritic(self.state_dim, self.action_dim, self.action_std).to(device)\n",
    "        self.policy_old = ActorCritic(self.state_dim, self.action_dim, self.action_std).to(device)\n",
    "        \n",
    "        # 初始化优化器和损失函数\n",
    "        # 因为一个policy里面有两个网络，所以优化器的参数和学习率是两个字典组成的列表\n",
    "        self.optimizer = torch.optim.Adam([\n",
    "            {'params':self.policy.actor.parameters(), 'lr':lr_actor},\n",
    "            {'params':self.policy.critic.parameters(), 'lr':lr_critic}\n",
    "        ])\n",
    "\n",
    "        self.loss_fn = nn.MSELoss()\n",
    "        self.summary = {}\n",
    "    \n",
    "    def set_action_std(self, new_action_std):\n",
    "        '''给ActorCritic类设置一下std'''\n",
    "        self.policy.set_action_std(new_action_std)\n",
    "        self.policy_old.set_action_std(new_action_std)\n",
    " \n",
    "    def decay_action_std(self, action_std_decay_rate, min_action_std):\n",
    "        '''随着步数增大， 减小action的方差, 并给两个actor网络设置方差'''\n",
    "        self.action_std -= action_std_decay_rate\n",
    "        self.action_std = round(self.action_std, 4)      # 保留四位小数\n",
    "        if (self.action_std <= min_action_std):\n",
    "            self.action_std = min_action_std\n",
    "        self.set_action_std(self.action_std)\n",
    "    \n",
    "    def select_action(self, state):\n",
    "        '''根据状态获取动作，得到的动作是用于与环境交互的， 不用于update'''\n",
    "        with torch.no_grad():\n",
    "            state = torch.FloatTensor(state).to(device)\n",
    "            action, action_log_prob = self.policy_old.act(state)\n",
    "        \n",
    "        # 选择动作的同时，把state， action, action_log_prob 加入buffer,都是tensor\n",
    "        self.buffer.states.append(state)\n",
    "        self.buffer.actions.append(action)    \n",
    "        self.buffer.logprobs.append(action_log_prob)\n",
    "        \n",
    "        return self.max_action * action.detach().cpu().numpy()\n",
    "    \n",
    "    def test_select_action(self, state):\n",
    "        with torch.no_grad():\n",
    "            state = torch.FloatTensor(state).to(device)\n",
    "            action = self.policy_old.actor(state)\n",
    "            return self.max_action * action.detach().cpu().numpy()\n",
    "         \n",
    "    def update(self):\n",
    "        # 先把reward转换为能用的折扣过的rewards\n",
    "        rewards = []\n",
    "        discounted_reward = 0\n",
    "        for reward, is_terminal in zip(reversed(self.buffer.rewards), reversed(self.buffer.is_terminals)):\n",
    "            if is_terminal:\n",
    "                discounted_reward = 0\n",
    "            discounted_reward = reward + (self.gamma * discounted_reward)\n",
    "            rewards.insert(0, discounted_reward)  # 把折扣过的动作重头排列\n",
    "        # 归一化reward\n",
    "        rewards = torch.FloatTensor(rewards).to(device)\n",
    "        rewards = (rewards - rewards.mean())/(rewards.std() + 1e-7)  # [4000]\n",
    "        \n",
    "        # buffer里面的这三个东西本来就是tensor，所以纵向连接dim=0也要用tensor的连接方法\n",
    "        old_states = torch.squeeze(torch.stack(self.buffer.states, dim=0)).detach().to(device)   # [4000, 6]\n",
    "        old_actions = torch.squeeze(torch.stack(self.buffer.actions, dim=0)).detach().to(device) # [4000, 4]\n",
    "        old_logprobs = torch.squeeze(torch.stack(self.buffer.logprobs, dim=0)).detach().to(device) # [4000]\n",
    "        \n",
    "        # update\n",
    "        for _ in range(self.K_epochs):\n",
    "            \n",
    "            # 用现在的actor和critic，评估旧的states和actions\n",
    "            logprobs, state_values, dist_entropy = self.policy.evaluate(old_states, old_actions)\n",
    "        #   [4000],   [4000, 1]     [4000]\n",
    "            \n",
    "            # 把state_values 变成[batch_size] 和rewards形状一致\n",
    "            state_values = torch.squeeze(state_values)\n",
    "            \n",
    "            # 计算ratio\n",
    "            ratios = torch.exp(logprobs - old_logprobs.detach())\n",
    "\n",
    "            # 计算loss\n",
    "            advantages = rewards - state_values.detach()\n",
    "            surr1 = ratios *  advantages\n",
    "            surr2 = torch.clamp(ratios, 1-self.eps_clip, 1+self.eps_clip) * advantages\n",
    "            \n",
    "            # PPO 的最终loss\n",
    "            loss = -torch.min(surr1, surr2) - 0.01 * dist_entropy + 0.5 * self.loss_fn(state_values, rewards) #[4000]\n",
    "            loss = loss.mean()\n",
    "            self.summary['loss'] = loss.item()\n",
    "            \n",
    "            # 梯度更新\n",
    "            self.optimizer.zero_grad()\n",
    "            loss.backward()\n",
    "            self.optimizer.step()\n",
    "        \n",
    "        # 更新目标网络，用load模型参数的方法来硬更新模型\n",
    "        self.policy_old.load_state_dict(self.policy.state_dict())\n",
    "        \n",
    "        # 清空buffer\n",
    "        self.buffer.clear()        \n",
    "        \n",
    "    \n",
    "    def save(self, checkpoint_path):\n",
    "        '''只保存模型参数'''\n",
    "        torch.save(self.policy_old.state_dict(), checkpoint_path)\n",
    "        \n",
    "    def load(self, checkpoint_path):\n",
    "        self.policy_old.load_state_dict(torch.load(checkpoint_path))\n",
    "        self.policy.load_state_dict(torch.load(checkpoint_path))"
   ]
  },
  {
   "cell_type": "code",
   "execution_count": 8,
   "metadata": {},
   "outputs": [],
   "source": [
    "max_ep_len = 1000                # 每个回合最大步数\n",
    "max_train_timesteps = int(3e6)\n",
    "action_std = 0.6\n",
    "action_std_decay_rate = 0.05\n",
    "min_action_std = 0.1\n",
    "action_std_decay_freq = int(2.5e5)  # 多少步减小一下std\n",
    "print_freq = max_ep_len * 10        # 多少步打印一下奖励\n",
    "save_model_freq = int(1e5)          # 多少步保存一下模型\n",
    "\n",
    "update_timestep = max_ep_len*4  # buffer存4000组数据训练一次\n",
    "K_epochs = 80                   # update一次更新网络80次\n",
    "\n",
    "eps_clip = 0.2\n",
    "gamma = 0.99\n",
    "lr_actor = 0.0003\n",
    "lr_critic = 0.001\n",
    "\n",
    "env = robenv\n",
    "\n",
    "ppo_agent = PPO(env, lr_actor, lr_critic, gamma, K_epochs, eps_clip, action_std)\n",
    "\n",
    "directory = 'PPO_weigths' + '/' + 'arm' + '/'\n",
    "if not os.path.exists(directory):\n",
    "      os.makedirs(directory)\n",
    "# checkpoint_path = directory + 'ppo_{}_dgx.pth'.format('arm')  # 模型保存会覆盖这个文件，整套训练下来，就保存一个文件\n",
    "checkpoint_path = directory + 'ppo_{}.pth'.format('arm')  # 模型保存会覆盖这个文件，整套训练下来，就保存一个文件"
   ]
  },
  {
   "cell_type": "code",
   "execution_count": 9,
   "metadata": {},
   "outputs": [],
   "source": [
    "writer_actor.add_graph(ppo_agent.policy.actor, torch.FloatTensor(env.reset()['observation']).cuda())\n",
    "writer_critic.add_graph(ppo_agent.policy.critic, torch.FloatTensor(env.reset()['observation']).cuda())"
   ]
  },
  {
   "cell_type": "markdown",
   "metadata": {},
   "source": [
    "# 训练代码"
   ]
  },
  {
   "cell_type": "code",
   "execution_count": 10,
   "metadata": {},
   "outputs": [
    {
     "name": "stderr",
     "output_type": "stream",
     "text": [
      "/home/pp/deeplearning/open_manipulator_X_RL/gym_myrobot/envs/robot_env.py:81: VisibleDeprecationWarning: Creating an ndarray from ragged nested sequences (which is a list-or-tuple of lists-or-tuples-or ndarrays with different lengths or shapes) is deprecated. If you meant to do this, you must specify 'dtype=object' when creating the ndarray\n",
      "  jointPoses_now = np.array(jointPoses_now)[:, 0]\n"
     ]
    },
    {
     "name": "stdout",
     "output_type": "stream",
     "text": [
      "Episode : 9 \t\t Timestep : 10000 \t\t Average Reward : -240.97\n",
      "Episode : 19 \t\t Timestep : 20000 \t\t Average Reward : -215.06\n",
      "Episode : 29 \t\t Timestep : 30000 \t\t Average Reward : -196.99\n",
      "Episode : 39 \t\t Timestep : 40000 \t\t Average Reward : -153.76\n",
      "Episode : 49 \t\t Timestep : 50000 \t\t Average Reward : -118.07\n",
      "Episode : 59 \t\t Timestep : 60000 \t\t Average Reward : -120.95\n",
      "Episode : 69 \t\t Timestep : 70000 \t\t Average Reward : -111.68\n",
      "Episode : 79 \t\t Timestep : 80000 \t\t Average Reward : -106.7\n",
      "Episode : 89 \t\t Timestep : 90000 \t\t Average Reward : -91.34\n",
      "Episode : 99 \t\t Timestep : 100000 \t\t Average Reward : -95.48\n",
      "Episode : 109 \t\t Timestep : 110000 \t\t Average Reward : -112.22\n",
      "Episode : 119 \t\t Timestep : 120000 \t\t Average Reward : -103.7\n",
      "Episode : 129 \t\t Timestep : 130000 \t\t Average Reward : -84.82\n",
      "Episode : 139 \t\t Timestep : 140000 \t\t Average Reward : -91.86\n",
      "Episode : 149 \t\t Timestep : 150000 \t\t Average Reward : -89.04\n",
      "Episode : 159 \t\t Timestep : 160000 \t\t Average Reward : -79.54\n",
      "Episode : 169 \t\t Timestep : 170000 \t\t Average Reward : -81.69\n",
      "Episode : 179 \t\t Timestep : 180000 \t\t Average Reward : -86.28\n",
      "Episode : 189 \t\t Timestep : 190000 \t\t Average Reward : -80.27\n",
      "Episode : 199 \t\t Timestep : 200000 \t\t Average Reward : -87.3\n",
      "Episode : 209 \t\t Timestep : 210000 \t\t Average Reward : -78.9\n",
      "Episode : 219 \t\t Timestep : 220000 \t\t Average Reward : -70.62\n",
      "Episode : 229 \t\t Timestep : 230000 \t\t Average Reward : -71.22\n",
      "Episode : 239 \t\t Timestep : 240000 \t\t Average Reward : -77.98\n",
      "Episode : 249 \t\t Timestep : 250000 \t\t Average Reward : -73.69\n",
      "Episode : 259 \t\t Timestep : 260000 \t\t Average Reward : -65.32\n",
      "Episode : 269 \t\t Timestep : 270000 \t\t Average Reward : -58.55\n",
      "Episode : 279 \t\t Timestep : 280000 \t\t Average Reward : -60.97\n",
      "Episode : 289 \t\t Timestep : 290000 \t\t Average Reward : -67.09\n",
      "Episode : 299 \t\t Timestep : 300000 \t\t Average Reward : -56.77\n",
      "Episode : 309 \t\t Timestep : 310000 \t\t Average Reward : -57.53\n",
      "Episode : 319 \t\t Timestep : 320000 \t\t Average Reward : -56.26\n",
      "Episode : 329 \t\t Timestep : 330000 \t\t Average Reward : -58.49\n",
      "Episode : 339 \t\t Timestep : 340000 \t\t Average Reward : -55.1\n",
      "Episode : 349 \t\t Timestep : 350000 \t\t Average Reward : -59.26\n",
      "Episode : 359 \t\t Timestep : 360000 \t\t Average Reward : -60.8\n",
      "Episode : 369 \t\t Timestep : 370000 \t\t Average Reward : -61.22\n",
      "Episode : 379 \t\t Timestep : 380000 \t\t Average Reward : -60.63\n",
      "Episode : 389 \t\t Timestep : 390000 \t\t Average Reward : -60.37\n",
      "Episode : 399 \t\t Timestep : 400000 \t\t Average Reward : -60.96\n",
      "Episode : 409 \t\t Timestep : 410000 \t\t Average Reward : -56.8\n",
      "Episode : 419 \t\t Timestep : 420000 \t\t Average Reward : -54.43\n",
      "Episode : 429 \t\t Timestep : 430000 \t\t Average Reward : -53.84\n",
      "Episode : 439 \t\t Timestep : 440000 \t\t Average Reward : -53.02\n",
      "Episode : 449 \t\t Timestep : 450000 \t\t Average Reward : -53.78\n",
      "Episode : 459 \t\t Timestep : 460000 \t\t Average Reward : -53.94\n",
      "Episode : 469 \t\t Timestep : 470000 \t\t Average Reward : -55.2\n",
      "Episode : 479 \t\t Timestep : 480000 \t\t Average Reward : -55.24\n",
      "Episode : 489 \t\t Timestep : 490000 \t\t Average Reward : -60.93\n",
      "Episode : 499 \t\t Timestep : 500000 \t\t Average Reward : -54.42\n",
      "Episode : 509 \t\t Timestep : 510000 \t\t Average Reward : -52.37\n",
      "Episode : 519 \t\t Timestep : 520000 \t\t Average Reward : -52.99\n",
      "Episode : 529 \t\t Timestep : 530000 \t\t Average Reward : -53.89\n",
      "Episode : 539 \t\t Timestep : 540000 \t\t Average Reward : -54.64\n",
      "Episode : 549 \t\t Timestep : 550000 \t\t Average Reward : -53.17\n",
      "Episode : 559 \t\t Timestep : 560000 \t\t Average Reward : -52.27\n",
      "Episode : 569 \t\t Timestep : 570000 \t\t Average Reward : -51.25\n",
      "Episode : 579 \t\t Timestep : 580000 \t\t Average Reward : -50.84\n",
      "Episode : 589 \t\t Timestep : 590000 \t\t Average Reward : -52.45\n",
      "Episode : 599 \t\t Timestep : 600000 \t\t Average Reward : -52.65\n",
      "Episode : 609 \t\t Timestep : 610000 \t\t Average Reward : -50.75\n",
      "Episode : 619 \t\t Timestep : 620000 \t\t Average Reward : -51.8\n",
      "Episode : 629 \t\t Timestep : 630000 \t\t Average Reward : -53.49\n",
      "Episode : 639 \t\t Timestep : 640000 \t\t Average Reward : -53.99\n"
     ]
    },
    {
     "ename": "KeyboardInterrupt",
     "evalue": "",
     "output_type": "error",
     "traceback": [
      "\u001b[0;31m---------------------------------------------------------------------------\u001b[0m",
      "\u001b[0;31mKeyboardInterrupt\u001b[0m                         Traceback (most recent call last)",
      "\u001b[0;32m<ipython-input-10-3269fb6998e5>\u001b[0m in \u001b[0;36m<module>\u001b[0;34m\u001b[0m\n\u001b[1;32m     14\u001b[0m \u001b[0;31m#         env.render()\u001b[0m\u001b[0;34m\u001b[0m\u001b[0;34m\u001b[0m\u001b[0;34m\u001b[0m\u001b[0m\n\u001b[1;32m     15\u001b[0m         \u001b[0maction\u001b[0m \u001b[0;34m=\u001b[0m \u001b[0mppo_agent\u001b[0m\u001b[0;34m.\u001b[0m\u001b[0mselect_action\u001b[0m\u001b[0;34m(\u001b[0m\u001b[0mstate\u001b[0m\u001b[0;34m)\u001b[0m  \u001b[0;31m# 已经存入了三个东西到buffer了！\u001b[0m\u001b[0;34m\u001b[0m\u001b[0;34m\u001b[0m\u001b[0m\n\u001b[0;32m---> 16\u001b[0;31m         \u001b[0mstate\u001b[0m\u001b[0;34m,\u001b[0m \u001b[0mreward\u001b[0m\u001b[0;34m,\u001b[0m \u001b[0mdone\u001b[0m\u001b[0;34m,\u001b[0m \u001b[0m_\u001b[0m \u001b[0;34m=\u001b[0m \u001b[0menv\u001b[0m\u001b[0;34m.\u001b[0m\u001b[0mstep\u001b[0m\u001b[0;34m(\u001b[0m\u001b[0maction\u001b[0m\u001b[0;34m)\u001b[0m \u001b[0;31m# 直接更新下一个状态到当前状态，没有出现next_state\u001b[0m\u001b[0;34m\u001b[0m\u001b[0;34m\u001b[0m\u001b[0m\n\u001b[0m\u001b[1;32m     17\u001b[0m         \u001b[0mstate\u001b[0m \u001b[0;34m=\u001b[0m \u001b[0mstate\u001b[0m\u001b[0;34m[\u001b[0m\u001b[0;34m'observation'\u001b[0m\u001b[0;34m]\u001b[0m\u001b[0;34m\u001b[0m\u001b[0;34m\u001b[0m\u001b[0m\n\u001b[1;32m     18\u001b[0m \u001b[0;34m\u001b[0m\u001b[0m\n",
      "\u001b[0;32m~/deeplearning/open_manipulator_X_RL/gym_myrobot/envs/robot_reach.py\u001b[0m in \u001b[0;36mstep\u001b[0;34m(self, action)\u001b[0m\n\u001b[1;32m    100\u001b[0m         \u001b[0;32mfor\u001b[0m \u001b[0m_\u001b[0m \u001b[0;32min\u001b[0m \u001b[0mrange\u001b[0m\u001b[0;34m(\u001b[0m\u001b[0mself\u001b[0m\u001b[0;34m.\u001b[0m\u001b[0mn_substeps\u001b[0m\u001b[0;34m)\u001b[0m\u001b[0;34m:\u001b[0m\u001b[0;34m\u001b[0m\u001b[0;34m\u001b[0m\u001b[0m\n\u001b[1;32m    101\u001b[0m             \u001b[0;34m'''仿真n个pybullet时间步数，因为怕执行不完'''\u001b[0m\u001b[0;34m\u001b[0m\u001b[0;34m\u001b[0m\u001b[0m\n\u001b[0;32m--> 102\u001b[0;31m             \u001b[0mp\u001b[0m\u001b[0;34m.\u001b[0m\u001b[0mstepSimulation\u001b[0m\u001b[0;34m(\u001b[0m\u001b[0;34m)\u001b[0m\u001b[0;34m\u001b[0m\u001b[0;34m\u001b[0m\u001b[0m\n\u001b[0m\u001b[1;32m    103\u001b[0m \u001b[0;34m\u001b[0m\u001b[0m\n\u001b[1;32m    104\u001b[0m         \u001b[0mobs\u001b[0m \u001b[0;34m=\u001b[0m \u001b[0mself\u001b[0m\u001b[0;34m.\u001b[0m\u001b[0m_get_obs\u001b[0m\u001b[0;34m(\u001b[0m\u001b[0;34m)\u001b[0m\u001b[0;34m\u001b[0m\u001b[0;34m\u001b[0m\u001b[0m\n",
      "\u001b[0;31mKeyboardInterrupt\u001b[0m: "
     ]
    }
   ],
   "source": [
    "time_step = 0\n",
    "i_episod = 0\n",
    "\n",
    "# printing and logging variables\n",
    "print_running_reward = 0\n",
    "print_running_episodes = 0\n",
    "\n",
    "while time_step <= max_train_timesteps:  # 以最大步数作为终止条件，同之前的第二种训练方法\n",
    "    state = env.reset()\n",
    "    state = state['observation']\n",
    "    current_ep_reward = 0\n",
    "    ep_step = 0\n",
    "    for t in range(max_ep_len):\n",
    "#         env.render()\n",
    "        action = ppo_agent.select_action(state)  # 已经存入了三个东西到buffer了！\n",
    "        state, reward, done, _ = env.step(action) # 直接更新下一个状态到当前状态，没有出现next_state\n",
    "        state = state['observation']\n",
    "        \n",
    "        ppo_agent.buffer.rewards.append(reward)\n",
    "        ppo_agent.buffer.is_terminals.append(done)\n",
    "        \n",
    "        time_step += 1\n",
    "        current_ep_reward += reward\n",
    "        ep_step += 1\n",
    "        \n",
    "        if time_step % update_timestep == 0:\n",
    "            ppo_agent.update()\n",
    "            writer_scalars.add_scalar('loss', ppo_agent.summary['loss'], time_step)\n",
    "        \n",
    "        if time_step % action_std_decay_freq == 0:\n",
    "            ppo_agent.decay_action_std(action_std_decay_rate, min_action_std)\n",
    "            \n",
    "        # printing average reward\n",
    "        if time_step % print_freq == 0:\n",
    "            # 打印这么些回合的平均回合奖励\n",
    "            print_avg_reward = print_running_reward / print_running_episodes\n",
    "            print_avg_reward = round(print_avg_reward, 2)\n",
    "\n",
    "            print(\"Episode : {} \\t\\t Timestep : {} \\t\\t Average Reward : {}\".format(i_episod, time_step, print_avg_reward))\n",
    "\n",
    "            print_running_reward = 0\n",
    "            print_running_episodes = 0\n",
    "        \n",
    "        if time_step % save_model_freq == 0:\n",
    "            ppo_agent.save(checkpoint_path)\n",
    "            \n",
    "        if done:\n",
    "            break\n",
    "    \n",
    "    writer_scalars.add_scalar('episode_reward', current_ep_reward, i_episod)\n",
    "    print_running_reward += current_ep_reward\n",
    "    print_running_episodes += 1\n",
    "    i_episod += 1"
   ]
  },
  {
   "cell_type": "markdown",
   "metadata": {},
   "source": [
    "# 测试"
   ]
  },
  {
   "cell_type": "code",
   "execution_count": 11,
   "metadata": {},
   "outputs": [],
   "source": [
    "import rospy"
   ]
  },
  {
   "cell_type": "markdown",
   "metadata": {},
   "source": [
    "## 仿真环境"
   ]
  },
  {
   "cell_type": "code",
   "execution_count": 12,
   "metadata": {},
   "outputs": [],
   "source": [
    "envsim = robenv"
   ]
  },
  {
   "cell_type": "code",
   "execution_count": 13,
   "metadata": {},
   "outputs": [],
   "source": [
    "\n",
    "ppo_agent_new = PPO(envsim, lr_actor, lr_critic, gamma, K_epochs, eps_clip, action_std)"
   ]
  },
  {
   "cell_type": "code",
   "execution_count": 14,
   "metadata": {},
   "outputs": [],
   "source": [
    "ppo_agent_new.load(checkpoint_path)\n"
   ]
  },
  {
   "cell_type": "code",
   "execution_count": 15,
   "metadata": {},
   "outputs": [],
   "source": [
    "for j in range(1):\n",
    "    states_sim = []\n",
    "    state = envsim.reset()\n",
    "    state = state['observation']\n",
    "    for i in range(500):\n",
    "        action = ppo_agent_new.test_select_action(state)\n",
    "        state, reward, done, _ = envsim.step(action)\n",
    "        rospy.sleep(0.02)\n",
    "        state = state['observation']\n",
    "        states_sim.append(state)\n",
    "        if done:\n",
    "            break"
   ]
  },
  {
   "cell_type": "code",
   "execution_count": 16,
   "metadata": {},
   "outputs": [],
   "source": [
    "import matplotlib.pyplot as plt"
   ]
  },
  {
   "cell_type": "code",
   "execution_count": 17,
   "metadata": {},
   "outputs": [
    {
     "data": {
      "text/plain": [
       "(500, 6)"
      ]
     },
     "execution_count": 17,
     "metadata": {},
     "output_type": "execute_result"
    }
   ],
   "source": [
    "states_sim = np.array(states_sim)\n",
    "states_sim.shape"
   ]
  },
  {
   "cell_type": "code",
   "execution_count": 18,
   "metadata": {},
   "outputs": [],
   "source": [
    "states_sim_pose = states_sim[:, :3]"
   ]
  },
  {
   "cell_type": "code",
   "execution_count": 19,
   "metadata": {},
   "outputs": [
    {
     "data": {
      "text/plain": [
       "<matplotlib.legend.Legend at 0x7f1ed0507668>"
      ]
     },
     "execution_count": 19,
     "metadata": {},
     "output_type": "execute_result"
    },
    {
     "data": {
      "image/png": "[encoded data removed]",
      "text/plain": [
       "<matplotlib.figure.Figure at 0x7f1f002084a8>"
      ]
     },
     "metadata": {
      "needs_background": "light"
     },
     "output_type": "display_data"
    }
   ],
   "source": [
    "t = np.arange(0, 500, 1)\n",
    "plt.plot(t, states_sim_pose[:,0],'r', t,states_sim_pose[:,1],'b', t, states_sim_pose[:,2],'g')\n",
    "plt.xlabel('time-step')\n",
    "plt.ylabel('poses')\n",
    "plt.legend(['x_sim','y_sim','z_sim'], loc='best')"
   ]
  },
  {
   "cell_type": "markdown",
   "metadata": {},
   "source": [
    "## 真实环境 \n",
    "### 需要用到真实的设备，openmanipulatorx，需要自行购买"
   ]
  },
  {
   "cell_type": "code",
   "execution_count": 17,
   "metadata": {},
   "outputs": [
    {
     "name": "stderr",
     "output_type": "stream",
     "text": [
      "/home/pp/anaconda3/envs/baseline/lib/python3.6/site-packages/gym/logger.py:34: UserWarning: \u001b[33mWARN: Box bound precision lowered by casting to float32\u001b[0m\n",
      "  warnings.warn(colorize(\"%s: %s\" % (\"WARN\", msg % args), \"yellow\"))\n"
     ]
    }
   ],
   "source": [
    "from gym_myrobot.envs.real_arm_env import RealarmEnv\n",
    "envreal = RealarmEnv(reward_type='dense',use_gripper=True)"
   ]
  },
  {
   "cell_type": "code",
   "execution_count": 19,
   "metadata": {},
   "outputs": [
    {
     "name": "stdout",
     "output_type": "stream",
     "text": [
      "-0.16179898383580413\n",
      "-0.16088894104076631\n",
      "-0.15952422053283438\n",
      "-0.15815997226319206\n",
      "-0.15556745343061162\n",
      "-0.15543353213846364\n",
      "-0.15330395319225398\n",
      "-0.15183178825678204\n",
      "-0.15004834602806033\n",
      "-0.14823148712329892\n"
     ]
    }
   ],
   "source": [
    "for j in range(1):\n",
    "    states_real = []\n",
    "    state = envreal.reset()\n",
    "    state = state['observation']\n",
    "    for i in range(500):\n",
    "        action = ppo_agent_new.test_select_action(state)\n",
    "        state, reward, done, info = envreal.step(action)\n",
    "        print(reward)\n",
    "        state = state['observation']\n",
    "        states_real.append(state)\n",
    "        if done:\n",
    "            break"
   ]
  },
  {
   "cell_type": "code",
   "execution_count": 20,
   "metadata": {},
   "outputs": [],
   "source": [
    "states_real = np.array(states_real)\n",
    "states_real_pose = states_real[:, :3]"
   ]
  },
  {
   "cell_type": "code",
   "execution_count": 21,
   "metadata": {},
   "outputs": [
    {
     "data": {
      "text/plain": [
       "<matplotlib.legend.Legend at 0x7f05e0066a58>"
      ]
     },
     "execution_count": 21,
     "metadata": {},
     "output_type": "execute_result"
    },
    {
     "data": {
      "image/png": "[encoded data removed]",
      "text/plain": [
       "<matplotlib.figure.Figure at 0x7f05e0066710>"
      ]
     },
     "metadata": {
      "needs_background": "light"
     },
     "output_type": "display_data"
    }
   ],
   "source": [
    "t = np.arange(0, 500, 1)\n",
    "plt.plot(t, states_real_pose[:,0],'r--', t,states_real_pose[:,1],'b--', t, states_real_pose[:,2],'g--')\n",
    "plt.xlabel('time-step')\n",
    "plt.ylabel('poses')\n",
    "plt.legend(['x_real','y_real','z_real'], loc='best')"
   ]
  },
  {
   "cell_type": "markdown",
   "metadata": {},
   "source": [
    "# 单点跟踪仿真和实物对比"
   ]
  },
  {
   "cell_type": "code",
   "execution_count": 22,
   "metadata": {},
   "outputs": [
    {
     "data": {
      "text/plain": [
       "<matplotlib.legend.Legend at 0x7f05c054b4e0>"
      ]
     },
     "execution_count": 22,
     "metadata": {},
     "output_type": "execute_result"
    },
    {
     "data": {
      "image/png": "[encoded data removed]",
      "text/plain": [
       "<matplotlib.figure.Figure at 0x7f05c054b438>"
      ]
     },
     "metadata": {
      "needs_background": "light"
     },
     "output_type": "display_data"
    }
   ],
   "source": [
    "t = np.arange(0, 500, 1)\n",
    "plt.plot(t, states_real_pose[:,0],'r--', t,states_real_pose[:,1],'b--', t, states_real_pose[:,2],'g--', t, states_sim_pose[:,0],'r', t,states_sim_pose[:,1],'b', t, states_sim_pose[:,2],'g')\n",
    "plt.xlabel('time-step')\n",
    "plt.ylabel('poses')\n",
    "plt.legend(['x_real','y_real','z_real','x_sim', 'y_sim', 'z_sim'], loc='best')"
   ]
  },
  {
   "cell_type": "code",
   "execution_count": null,
   "metadata": {},
   "outputs": [],
   "source": []
  }
 ],
 "metadata": {
  "interpreter": {
   "hash": "be7c24b6c677481f72574ad8dd0426aa142df58920f5739129da1878e2bc9311"
  },
  "kernelspec": {
   "display_name": "Python 3.6.13 64-bit ('baseline': conda)",
   "language": "python",
   "name": "python3"
  },
  "language_info": {
   "codemirror_mode": {
    "name": "ipython",
    "version": 3
   },
   "file_extension": ".py",
   "mimetype": "text/x-python",
   "name": "python",
   "nbconvert_exporter": "python",
   "pygments_lexer": "ipython3",
   "version": "3.6.13"
  },
  "orig_nbformat": 4
 },
 "nbformat": 4,
 "nbformat_minor": 2
}
