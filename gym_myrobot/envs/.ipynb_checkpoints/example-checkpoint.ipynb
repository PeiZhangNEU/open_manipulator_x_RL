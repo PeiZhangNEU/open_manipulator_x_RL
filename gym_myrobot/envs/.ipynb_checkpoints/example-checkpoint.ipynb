{
 "cells": [
  {
   "cell_type": "code",
   "execution_count": 1,
   "id": "b0e8ab0d",
   "metadata": {},
   "outputs": [],
   "source": [
    "import gym\n",
    "from gym import error, spaces, utils\n",
    "from gym.utils import seeding\n",
    "\n",
    "import os\n",
    "import pybullet as p\n",
    "import pybullet_data\n",
    "import math\n",
    "import numpy as np\n",
    "import random"
   ]
  },
  {
   "cell_type": "code",
   "execution_count": 2,
   "id": "d6fa6c36",
   "metadata": {},
   "outputs": [
    {
     "data": {
      "text/plain": [
       "0"
      ]
     },
     "execution_count": 2,
     "metadata": {},
     "output_type": "execute_result"
    }
   ],
   "source": [
    "p.connect(p.GUI)"
   ]
  },
  {
   "cell_type": "code",
   "execution_count": 3,
   "id": "98cc5aef",
   "metadata": {},
   "outputs": [],
   "source": [
    "p.resetSimulation()"
   ]
  },
  {
   "cell_type": "code",
   "execution_count": 4,
   "id": "19d7ea4e",
   "metadata": {},
   "outputs": [],
   "source": [
    "p.setGravity(0,0,-9.8)"
   ]
  },
  {
   "cell_type": "code",
   "execution_count": 5,
   "id": "dd9e2217",
   "metadata": {},
   "outputs": [],
   "source": [
    "urdfRootPath=pybullet_data.getDataPath()\n",
    "planeUid = p.loadURDF(os.path.join(urdfRootPath,\"plane.urdf\"), basePosition=[0,0,-0.65])\n"
   ]
  },
  {
   "cell_type": "code",
   "execution_count": 6,
   "id": "4a3ebc2c",
   "metadata": {},
   "outputs": [],
   "source": [
    "rest_poses = [0.0,0.0,0.0,0.0,0.01,0.01]   # 前四个joint以及两个finger，要符合joint 的限定范围\n",
    "# 绝对路径\n",
    "pandaUid = p.loadURDF(\"/home/zp/deeplearning/myrobot/gym_myrobot/envs/open_manipulator.urdf\", useFixedBase=True)"
   ]
  },
  {
   "cell_type": "code",
   "execution_count": 12,
   "id": "7d4681dd",
   "metadata": {},
   "outputs": [],
   "source": [
    "p.resetJointState(pandaUid,4, 0.01)"
   ]
  },
  {
   "cell_type": "code",
   "execution_count": 13,
   "id": "8befef42",
   "metadata": {},
   "outputs": [],
   "source": [
    "p.resetJointState(pandaUid,5, 0.01)"
   ]
  },
  {
   "cell_type": "code",
   "execution_count": null,
   "id": "87fe76d8",
   "metadata": {},
   "outputs": [],
   "source": []
  }
 ],
 "metadata": {
  "kernelspec": {
   "display_name": "Python 3",
   "language": "python",
   "name": "python3"
  },
  "language_info": {
   "codemirror_mode": {
    "name": "ipython",
    "version": 3
   },
   "file_extension": ".py",
   "mimetype": "text/x-python",
   "name": "python",
   "nbconvert_exporter": "python",
   "pygments_lexer": "ipython3",
   "version": "3.6.13"
  }
 },
 "nbformat": 4,
 "nbformat_minor": 5
}
